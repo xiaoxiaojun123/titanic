{
 "cells": [
  {
   "cell_type": "code",
   "execution_count": 1,
   "metadata": {},
   "outputs": [
    {
     "name": "stdout",
     "output_type": "stream",
     "text": [
      "Populating the interactive namespace from numpy and matplotlib\n"
     ]
    }
   ],
   "source": [
    "%pylab inline\n",
    "%matplotlib inline\n",
    "import pandas as pd\n",
    "import numpy as np\n",
    "import seaborn as sns\n",
    "import matplotlib.pyplot as plt"
   ]
  },
  {
   "cell_type": "code",
   "execution_count": 2,
   "metadata": {
    "collapsed": true
   },
   "outputs": [],
   "source": [
    "titanic_data=pd.read_csv('titanic_data.csv')"
   ]
  },
  {
   "cell_type": "code",
   "execution_count": 3,
   "metadata": {
    "collapsed": true
   },
   "outputs": [],
   "source": [
    "total_number=len(titanic_data['Name'].unique())\n"
   ]
  },
  {
   "cell_type": "code",
   "execution_count": 4,
   "metadata": {},
   "outputs": [
    {
     "data": {
      "text/html": [
       "<div>\n",
       "<style scoped>\n",
       "    .dataframe tbody tr th:only-of-type {\n",
       "        vertical-align: middle;\n",
       "    }\n",
       "\n",
       "    .dataframe tbody tr th {\n",
       "        vertical-align: top;\n",
       "    }\n",
       "\n",
       "    .dataframe thead th {\n",
       "        text-align: right;\n",
       "    }\n",
       "</style>\n",
       "<table border=\"1\" class=\"dataframe\">\n",
       "  <thead>\n",
       "    <tr style=\"text-align: right;\">\n",
       "      <th></th>\n",
       "      <th>PassengerId</th>\n",
       "      <th>Survived</th>\n",
       "      <th>Pclass</th>\n",
       "      <th>Name</th>\n",
       "      <th>Sex</th>\n",
       "      <th>Age</th>\n",
       "      <th>SibSp</th>\n",
       "      <th>Parch</th>\n",
       "      <th>Ticket</th>\n",
       "      <th>Fare</th>\n",
       "      <th>Cabin</th>\n",
       "      <th>Embarked</th>\n",
       "    </tr>\n",
       "  </thead>\n",
       "  <tbody>\n",
       "    <tr>\n",
       "      <th>0</th>\n",
       "      <td>1</td>\n",
       "      <td>0</td>\n",
       "      <td>3</td>\n",
       "      <td>Braund, Mr. Owen Harris</td>\n",
       "      <td>male</td>\n",
       "      <td>22.0</td>\n",
       "      <td>1</td>\n",
       "      <td>0</td>\n",
       "      <td>A/5 21171</td>\n",
       "      <td>7.2500</td>\n",
       "      <td>NaN</td>\n",
       "      <td>S</td>\n",
       "    </tr>\n",
       "    <tr>\n",
       "      <th>1</th>\n",
       "      <td>2</td>\n",
       "      <td>1</td>\n",
       "      <td>1</td>\n",
       "      <td>Cumings, Mrs. John Bradley (Florence Briggs Th...</td>\n",
       "      <td>female</td>\n",
       "      <td>38.0</td>\n",
       "      <td>1</td>\n",
       "      <td>0</td>\n",
       "      <td>PC 17599</td>\n",
       "      <td>71.2833</td>\n",
       "      <td>C85</td>\n",
       "      <td>C</td>\n",
       "    </tr>\n",
       "    <tr>\n",
       "      <th>2</th>\n",
       "      <td>3</td>\n",
       "      <td>1</td>\n",
       "      <td>3</td>\n",
       "      <td>Heikkinen, Miss. Laina</td>\n",
       "      <td>female</td>\n",
       "      <td>26.0</td>\n",
       "      <td>0</td>\n",
       "      <td>0</td>\n",
       "      <td>STON/O2. 3101282</td>\n",
       "      <td>7.9250</td>\n",
       "      <td>NaN</td>\n",
       "      <td>S</td>\n",
       "    </tr>\n",
       "  </tbody>\n",
       "</table>\n",
       "</div>"
      ],
      "text/plain": [
       "   PassengerId  Survived  Pclass  \\\n",
       "0            1         0       3   \n",
       "1            2         1       1   \n",
       "2            3         1       3   \n",
       "\n",
       "                                                Name     Sex   Age  SibSp  \\\n",
       "0                            Braund, Mr. Owen Harris    male  22.0      1   \n",
       "1  Cumings, Mrs. John Bradley (Florence Briggs Th...  female  38.0      1   \n",
       "2                             Heikkinen, Miss. Laina  female  26.0      0   \n",
       "\n",
       "   Parch            Ticket     Fare Cabin Embarked  \n",
       "0      0         A/5 21171   7.2500   NaN        S  \n",
       "1      0          PC 17599  71.2833   C85        C  \n",
       "2      0  STON/O2. 3101282   7.9250   NaN        S  "
      ]
     },
     "execution_count": 4,
     "metadata": {},
     "output_type": "execute_result"
    }
   ],
   "source": [
    "titanic_data.head(3)\n",
    "#数据探索\n",
    "#问题：在泰坦尼克事件里，哪些因素影响了生还率？\n",
    "#1.女性的生还率是否比男性高？\n",
    "#2.三等舱的生还率是否小于一等舱，二等舱的生还率？\n",
    "#3.上岸港口是否对生还率有影响？\n",
    "#4.年龄对生还率是否有影响？\n",
    "\n"
   ]
  },
  {
   "cell_type": "code",
   "execution_count": 5,
   "metadata": {},
   "outputs": [
    {
     "name": "stdout",
     "output_type": "stream",
     "text": [
      "<class 'pandas.core.frame.DataFrame'>\n",
      "RangeIndex: 891 entries, 0 to 890\n",
      "Data columns (total 12 columns):\n",
      "PassengerId    891 non-null int64\n",
      "Survived       891 non-null int64\n",
      "Pclass         891 non-null int64\n",
      "Name           891 non-null object\n",
      "Sex            891 non-null object\n",
      "Age            714 non-null float64\n",
      "SibSp          891 non-null int64\n",
      "Parch          891 non-null int64\n",
      "Ticket         891 non-null object\n",
      "Fare           891 non-null float64\n",
      "Cabin          204 non-null object\n",
      "Embarked       889 non-null object\n",
      "dtypes: float64(2), int64(5), object(5)\n",
      "memory usage: 83.6+ KB\n"
     ]
    }
   ],
   "source": [
    "#数据整理\n",
    "titanic_data.info()"
   ]
  },
  {
   "cell_type": "code",
   "execution_count": 6,
   "metadata": {},
   "outputs": [
    {
     "data": {
      "text/html": [
       "<div>\n",
       "<style scoped>\n",
       "    .dataframe tbody tr th:only-of-type {\n",
       "        vertical-align: middle;\n",
       "    }\n",
       "\n",
       "    .dataframe tbody tr th {\n",
       "        vertical-align: top;\n",
       "    }\n",
       "\n",
       "    .dataframe thead th {\n",
       "        text-align: right;\n",
       "    }\n",
       "</style>\n",
       "<table border=\"1\" class=\"dataframe\">\n",
       "  <thead>\n",
       "    <tr style=\"text-align: right;\">\n",
       "      <th></th>\n",
       "      <th>PassengerId</th>\n",
       "      <th>Survived</th>\n",
       "      <th>Pclass</th>\n",
       "      <th>Age</th>\n",
       "      <th>SibSp</th>\n",
       "      <th>Parch</th>\n",
       "      <th>Fare</th>\n",
       "    </tr>\n",
       "  </thead>\n",
       "  <tbody>\n",
       "    <tr>\n",
       "      <th>count</th>\n",
       "      <td>891.000000</td>\n",
       "      <td>891.000000</td>\n",
       "      <td>891.000000</td>\n",
       "      <td>714.000000</td>\n",
       "      <td>891.000000</td>\n",
       "      <td>891.000000</td>\n",
       "      <td>891.000000</td>\n",
       "    </tr>\n",
       "    <tr>\n",
       "      <th>mean</th>\n",
       "      <td>446.000000</td>\n",
       "      <td>0.383838</td>\n",
       "      <td>2.308642</td>\n",
       "      <td>29.699118</td>\n",
       "      <td>0.523008</td>\n",
       "      <td>0.381594</td>\n",
       "      <td>32.204208</td>\n",
       "    </tr>\n",
       "    <tr>\n",
       "      <th>std</th>\n",
       "      <td>257.353842</td>\n",
       "      <td>0.486592</td>\n",
       "      <td>0.836071</td>\n",
       "      <td>14.526497</td>\n",
       "      <td>1.102743</td>\n",
       "      <td>0.806057</td>\n",
       "      <td>49.693429</td>\n",
       "    </tr>\n",
       "    <tr>\n",
       "      <th>min</th>\n",
       "      <td>1.000000</td>\n",
       "      <td>0.000000</td>\n",
       "      <td>1.000000</td>\n",
       "      <td>0.420000</td>\n",
       "      <td>0.000000</td>\n",
       "      <td>0.000000</td>\n",
       "      <td>0.000000</td>\n",
       "    </tr>\n",
       "    <tr>\n",
       "      <th>25%</th>\n",
       "      <td>223.500000</td>\n",
       "      <td>0.000000</td>\n",
       "      <td>2.000000</td>\n",
       "      <td>20.125000</td>\n",
       "      <td>0.000000</td>\n",
       "      <td>0.000000</td>\n",
       "      <td>7.910400</td>\n",
       "    </tr>\n",
       "    <tr>\n",
       "      <th>50%</th>\n",
       "      <td>446.000000</td>\n",
       "      <td>0.000000</td>\n",
       "      <td>3.000000</td>\n",
       "      <td>28.000000</td>\n",
       "      <td>0.000000</td>\n",
       "      <td>0.000000</td>\n",
       "      <td>14.454200</td>\n",
       "    </tr>\n",
       "    <tr>\n",
       "      <th>75%</th>\n",
       "      <td>668.500000</td>\n",
       "      <td>1.000000</td>\n",
       "      <td>3.000000</td>\n",
       "      <td>38.000000</td>\n",
       "      <td>1.000000</td>\n",
       "      <td>0.000000</td>\n",
       "      <td>31.000000</td>\n",
       "    </tr>\n",
       "    <tr>\n",
       "      <th>max</th>\n",
       "      <td>891.000000</td>\n",
       "      <td>1.000000</td>\n",
       "      <td>3.000000</td>\n",
       "      <td>80.000000</td>\n",
       "      <td>8.000000</td>\n",
       "      <td>6.000000</td>\n",
       "      <td>512.329200</td>\n",
       "    </tr>\n",
       "  </tbody>\n",
       "</table>\n",
       "</div>"
      ],
      "text/plain": [
       "       PassengerId    Survived      Pclass         Age       SibSp  \\\n",
       "count   891.000000  891.000000  891.000000  714.000000  891.000000   \n",
       "mean    446.000000    0.383838    2.308642   29.699118    0.523008   \n",
       "std     257.353842    0.486592    0.836071   14.526497    1.102743   \n",
       "min       1.000000    0.000000    1.000000    0.420000    0.000000   \n",
       "25%     223.500000    0.000000    2.000000   20.125000    0.000000   \n",
       "50%     446.000000    0.000000    3.000000   28.000000    0.000000   \n",
       "75%     668.500000    1.000000    3.000000   38.000000    1.000000   \n",
       "max     891.000000    1.000000    3.000000   80.000000    8.000000   \n",
       "\n",
       "            Parch        Fare  \n",
       "count  891.000000  891.000000  \n",
       "mean     0.381594   32.204208  \n",
       "std      0.806057   49.693429  \n",
       "min      0.000000    0.000000  \n",
       "25%      0.000000    7.910400  \n",
       "50%      0.000000   14.454200  \n",
       "75%      0.000000   31.000000  \n",
       "max      6.000000  512.329200  "
      ]
     },
     "execution_count": 6,
     "metadata": {},
     "output_type": "execute_result"
    }
   ],
   "source": [
    "titanic_data.describe()"
   ]
  },
  {
   "cell_type": "code",
   "execution_count": 7,
   "metadata": {
    "collapsed": true
   },
   "outputs": [],
   "source": [
    "#用平均值填充年龄缺失值\n",
    "titanic_data.Age.fillna(titanic_data.Age.mean(),inplace=True)"
   ]
  },
  {
   "cell_type": "code",
   "execution_count": 8,
   "metadata": {
    "collapsed": true
   },
   "outputs": [],
   "source": [
    "#用众数填充上岸港口的缺失值\n",
    "titanic_data.Embarked.fillna(\"S\",inplace=True)"
   ]
  },
  {
   "cell_type": "code",
   "execution_count": 9,
   "metadata": {},
   "outputs": [
    {
     "name": "stdout",
     "output_type": "stream",
     "text": [
      "生还者342人，549人未生还。\n"
     ]
    }
   ],
   "source": [
    "total_survived_num=titanic_data['Survived'].sum()\n",
    "total_no_survived_num=891-titanic_data['Survived'].sum()\n",
    "\n",
    "print'生还者{}人，{}人未生还。'.format(total_survived_num,total_no_survived_num)\n"
   ]
  },
  {
   "cell_type": "code",
   "execution_count": 10,
   "metadata": {},
   "outputs": [
    {
     "data": {
      "text/plain": [
       "<function matplotlib.pyplot.show>"
      ]
     },
     "execution_count": 10,
     "metadata": {},
     "output_type": "execute_result"
    },
    {
     "data": {
      "image/png": "[encoded data removed]",
      "text/plain": [
       "<matplotlib.figure.Figure at 0x830db70>"
      ]
     },
     "metadata": {},
     "output_type": "display_data"
    }
   ],
   "source": [
    "plt.pie([total_no_survived_num,total_survived_num],labels=['No Survived',\n",
    "         'Survived'],autopct='%1.0f%%',colors=['black','green'])\n",
    "plt.title('Survival rate')\n",
    "plt.show"
   ]
  },
  {
   "cell_type": "code",
   "execution_count": 11,
   "metadata": {
    "collapsed": true
   },
   "outputs": [],
   "source": [
    "#多个特征变量分组的生化率\n",
    "def plotRate(feature):\n",
    "    survived_rate = (titanic_data.groupby([feature]).sum()/titanic_data.groupby([feature]).count())['Survived']\n",
    "    survived_rate.plot(kind='bar')\n",
    "    plt.title('Rate of Survived Passenger by{}'.format(feature))\n",
    "    "
   ]
  },
  {
   "cell_type": "code",
   "execution_count": 12,
   "metadata": {
    "collapsed": true
   },
   "outputs": [],
   "source": [
    "def number(feature):\n",
    "    print\"Count of passengers across\"+feature+\":\"\n",
    "    print(titanic_data.groupby(feature)['Survived'].count())\n",
    "    print\"Count of Survived passengers across\"+feature+\":\"\n",
    "    print(titanic_data.groupby(feature)['Survived'].sum())\n",
    "    print\"Rate of Survived passengers across\"+feature+\":\"\n",
    "    print(titanic_data.groupby(feature)['Survived'].mean())"
   ]
  },
  {
   "cell_type": "code",
   "execution_count": 13,
   "metadata": {
    "scrolled": true
   },
   "outputs": [
    {
     "data": {
      "image/png": "[encoded data removed]",
      "text/plain": [
       "<matplotlib.figure.Figure at 0xd8ac128>"
      ]
     },
     "metadata": {},
     "output_type": "display_data"
    }
   ],
   "source": [
    "#问题１：女性比男性的生还率更高么？\n",
    "plotRate('Sex')\n",
    "#女性生还率约74%，男性生还率为19%。女性比男性的生还率高。"
   ]
  },
  {
   "cell_type": "code",
   "execution_count": 14,
   "metadata": {},
   "outputs": [
    {
     "data": {
      "text/plain": [
       "<matplotlib.axes._subplots.AxesSubplot at 0xdbba940>"
      ]
     },
     "execution_count": 14,
     "metadata": {},
     "output_type": "execute_result"
    },
    {
     "data": {
      "image/png": "[encoded data removed]",
      "text/plain": [
       "<matplotlib.figure.Figure at 0xdbeda20>"
      ]
     },
     "metadata": {},
     "output_type": "display_data"
    }
   ],
   "source": [
    "titanic_data.groupby('Sex').Survived.sum().plot(kind='bar')\n",
    "#女性的生还人数比男性多。"
   ]
  },
  {
   "cell_type": "code",
   "execution_count": 15,
   "metadata": {},
   "outputs": [
    {
     "name": "stdout",
     "output_type": "stream",
     "text": [
      "Count of passengers acrossSex:\n",
      "Sex\n",
      "female    314\n",
      "male      577\n",
      "Name: Survived, dtype: int64\n",
      "Count of Survived passengers acrossSex:\n",
      "Sex\n",
      "female    233\n",
      "male      109\n",
      "Name: Survived, dtype: int64\n",
      "Rate of Survived passengers acrossSex:\n",
      "Sex\n",
      "female    0.742038\n",
      "male      0.188908\n",
      "Name: Survived, dtype: float64\n"
     ]
    }
   ],
   "source": [
    "number('Sex')\n",
    "#print(titanic_data.Sex.value_counts())#在泰坦尼克的男性和女性人数\n",
    "#print(titanic_data.groupby('Sex')['Survived'].sum())＃女性和男性生还人数\n",
    "#print(titanic_data.groupby('Sex')['Survived'].mean())#男性，女性生还率\n",
    "#结论：1.乘坐泰坦尼克的女性314人，男性577人。\n",
    "#     2.女性生还人数233人，男性109人。\n",
    "#     3.女性的生化率更高74%，男性为19%。\n",
    "#     泰坦尼克事件中，女性的生还率比男性高。"
   ]
  },
  {
   "cell_type": "code",
   "execution_count": 16,
   "metadata": {},
   "outputs": [
    {
     "data": {
      "image/png": "[encoded data removed]",
      "text/plain": [
       "<matplotlib.figure.Figure at 0xde47320>"
      ]
     },
     "metadata": {},
     "output_type": "display_data"
    }
   ],
   "source": [
    "#问题２：三等舱的生还率是否小于一等舱，二等舱的生还率？\n",
    "#titanic_data.groupby('Pclass').Survived.sum().plot(kind='bar')\n",
    "plotRate('Pclass')\n",
    "#一等舱位生还率最高，二等次之，三等生最少。"
   ]
  },
  {
   "cell_type": "code",
   "execution_count": 17,
   "metadata": {},
   "outputs": [
    {
     "name": "stdout",
     "output_type": "stream",
     "text": [
      "Count of passengers acrossPclass:\n",
      "Pclass\n",
      "1    216\n",
      "2    184\n",
      "3    491\n",
      "Name: Survived, dtype: int64\n",
      "Count of Survived passengers acrossPclass:\n",
      "Pclass\n",
      "1    136\n",
      "2     87\n",
      "3    119\n",
      "Name: Survived, dtype: int64\n",
      "Rate of Survived passengers acrossPclass:\n",
      "Pclass\n",
      "1    0.629630\n",
      "2    0.472826\n",
      "3    0.242363\n",
      "Name: Survived, dtype: float64\n"
     ]
    }
   ],
   "source": [
    "number('Pclass')\n",
    "#结论：1.乘坐泰坦尼克的一等舱216人，二等舱184人，三等舱491人。\n",
    "#    2.生还人数：一等舱136人，二等舱87人，三等舱119人。\n",
    "#    3.生还率：一等舱63%，二等舱47%，三等舱24%。\n",
    "#    一等舱位生还率略高，二等次之，三等生最少。"
   ]
  },
  {
   "cell_type": "code",
   "execution_count": 18,
   "metadata": {},
   "outputs": [
    {
     "data": {
      "text/plain": [
       "<matplotlib.axes._subplots.AxesSubplot at 0xdbcbe10>"
      ]
     },
     "execution_count": 18,
     "metadata": {},
     "output_type": "execute_result"
    },
    {
     "data": {
      "image/png": "[encoded data removed]",
      "text/plain": [
       "<matplotlib.figure.Figure at 0xdb62c88>"
      ]
     },
     "metadata": {},
     "output_type": "display_data"
    }
   ],
   "source": [
    "#问题3：上岸港口与生还人数有影响么？\n",
    "titanic_data.groupby('Embarked').Survived.sum().plot(kind='bar')\n",
    "#生还人数中，S港口的生还人数最多，Q港口的最少。"
   ]
  },
  {
   "cell_type": "code",
   "execution_count": 19,
   "metadata": {},
   "outputs": [
    {
     "data": {
      "image/png": "[encoded data removed]",
      "text/plain": [
       "<matplotlib.figure.Figure at 0xd90ccc0>"
      ]
     },
     "metadata": {},
     "output_type": "display_data"
    }
   ],
   "source": [
    "plotRate('Embarked')\n",
    "#生还率，Ｃ港口的生还率最高，Ｓ港口的最低"
   ]
  },
  {
   "cell_type": "code",
   "execution_count": 20,
   "metadata": {},
   "outputs": [
    {
     "name": "stdout",
     "output_type": "stream",
     "text": [
      "Count of passengers acrossEmbarked:\n",
      "Embarked\n",
      "C    168\n",
      "Q     77\n",
      "S    646\n",
      "Name: Survived, dtype: int64\n",
      "Count of Survived passengers acrossEmbarked:\n",
      "Embarked\n",
      "C     93\n",
      "Q     30\n",
      "S    219\n",
      "Name: Survived, dtype: int64\n",
      "Rate of Survived passengers acrossEmbarked:\n",
      "Embarked\n",
      "C    0.553571\n",
      "Q    0.389610\n",
      "S    0.339009\n",
      "Name: Survived, dtype: float64\n"
     ]
    }
   ],
   "source": [
    "number('Embarked')\n",
    "#结论：C案口生还率55%，Q岸口生还率39%，S岸口生还率34%。\n",
    "#上岸港口，对生还率仅有轻微影响。可能有其他因素对生还率有共同的相关性。"
   ]
  },
  {
   "cell_type": "code",
   "execution_count": 21,
   "metadata": {},
   "outputs": [
    {
     "data": {
      "text/plain": [
       "<matplotlib.axes._subplots.AxesSubplot at 0xdb79c18>"
      ]
     },
     "execution_count": 21,
     "metadata": {},
     "output_type": "execute_result"
    },
    {
     "data": {
      "image/png": "[encoded data removed]",
      "text/plain": [
       "<matplotlib.figure.Figure at 0xd6a3710>"
      ]
     },
     "metadata": {},
     "output_type": "display_data"
    }
   ],
   "source": [
    "#比较不同的舱位等级，性别和生还率的关系。\n",
    "death_counts=pd.crosstab([titanic_data.Pclass,titanic_data.Sex],titanic_data.Survived.astype(bool))\n",
    "                                                                                             \n",
    "                \n",
    "death_counts.plot(kind='bar',stacked=True,color=['black','green'],grid=False)\n",
    "\n",
    "#结论：1.女性的生还率比男性的高。\n",
    "#     2.三等舱位的生还率远远小于一等和二等舱位的。\n",
    "#     3.三等舱位的男性生还率最低，相比而言，三等舱位的女性在三等舱极低的生还率下，得到较多帮助，生还率还好。\n",
    "\n",
    "    \n",
    "     "
   ]
  },
  {
   "cell_type": "code",
   "execution_count": 22,
   "metadata": {},
   "outputs": [
    {
     "data": {
      "text/plain": [
       "count    891.000000\n",
       "mean      32.204208\n",
       "std       49.693429\n",
       "min        0.000000\n",
       "25%        7.910400\n",
       "50%       14.454200\n",
       "75%       31.000000\n",
       "max      512.329200\n",
       "Name: Fare, dtype: float64"
      ]
     },
     "execution_count": 22,
     "metadata": {},
     "output_type": "execute_result"
    }
   ],
   "source": [
    "titanic_data['Fare'].describe()"
   ]
  },
  {
   "cell_type": "code",
   "execution_count": 23,
   "metadata": {},
   "outputs": [
    {
     "data": {
      "text/plain": [
       "<matplotlib.text.Text at 0xf28ecc0>"
      ]
     },
     "execution_count": 23,
     "metadata": {},
     "output_type": "execute_result"
    },
    {
     "data": {
      "image/png": "[encoded data removed]",
      "text/plain": [
       "<matplotlib.figure.Figure at 0xe06dbe0>"
      ]
     },
     "metadata": {},
     "output_type": "display_data"
    }
   ],
   "source": [
    "#票价分布的直方图\n",
    "titanic_data[titanic_data.Fare<300]['Fare'].hist(bins=40)\n",
    "plt.title(\"Distribution of Fare(<300)\")"
   ]
  },
  {
   "cell_type": "code",
   "execution_count": 24,
   "metadata": {},
   "outputs": [
    {
     "name": "stdout",
     "output_type": "stream",
     "text": [
      "Age_group\n",
      "(0, 10]      64\n",
      "(10, 20]    115\n",
      "(20, 30]    407\n",
      "(30, 40]    155\n",
      "(40, 50]     86\n",
      "(50, 60]     42\n",
      "(60, 70]     17\n",
      "(70, 80]      5\n",
      "Name: PassengerId, dtype: int64\n"
     ]
    }
   ],
   "source": [
    "#将年龄连续变量切割为类别变量。\n",
    "bins=np.arange(0,90,10)\n",
    "\n",
    "titanic_data['Age_group'] = pd.cut(titanic_data['Age'], bins)\n",
    "\n",
    "print titanic_data.groupby('Age_group').PassengerId.count()"
   ]
  },
  {
   "cell_type": "code",
   "execution_count": 25,
   "metadata": {},
   "outputs": [
    {
     "data": {
      "image/png": "[encoded data removed]",
      "text/plain": [
       "<matplotlib.figure.Figure at 0xd8e78d0>"
      ]
     },
     "metadata": {},
     "output_type": "display_data"
    }
   ],
   "source": [
    "plotRate('Age_group')"
   ]
  },
  {
   "cell_type": "code",
   "execution_count": 26,
   "metadata": {},
   "outputs": [
    {
     "name": "stdout",
     "output_type": "stream",
     "text": [
      "Count of passengers acrossAge_group:\n",
      "Age_group\n",
      "(0, 10]      64\n",
      "(10, 20]    115\n",
      "(20, 30]    407\n",
      "(30, 40]    155\n",
      "(40, 50]     86\n",
      "(50, 60]     42\n",
      "(60, 70]     17\n",
      "(70, 80]      5\n",
      "Name: Survived, dtype: int64\n",
      "Count of Survived passengers acrossAge_group:\n",
      "Age_group\n",
      "(0, 10]      38\n",
      "(10, 20]     44\n",
      "(20, 30]    136\n",
      "(30, 40]     69\n",
      "(40, 50]     33\n",
      "(50, 60]     17\n",
      "(60, 70]      4\n",
      "(70, 80]      1\n",
      "Name: Survived, dtype: int64\n",
      "Rate of Survived passengers acrossAge_group:\n",
      "Age_group\n",
      "(0, 10]     0.593750\n",
      "(10, 20]    0.382609\n",
      "(20, 30]    0.334152\n",
      "(30, 40]    0.445161\n",
      "(40, 50]    0.383721\n",
      "(50, 60]    0.404762\n",
      "(60, 70]    0.235294\n",
      "(70, 80]    0.200000\n",
      "Name: Survived, dtype: float64\n"
     ]
    }
   ],
   "source": [
    "number('Age_group')"
   ]
  },
  {
   "cell_type": "code",
   "execution_count": 27,
   "metadata": {
    "collapsed": true
   },
   "outputs": [],
   "source": [
    "#按照年龄，将乘客分为儿童，少年，成年人和老人\n",
    "children_df = titanic_data[ titanic_data['Age'] <= 12]\n",
    "juvenile_df = titanic_data[(titanic_data['Age'] > 12) & (titanic_data['Age'] < 18)]\n",
    "adults_df = titanic_data[(titanic_data['Age'] >= 18) & (titanic_data['Age'] < 65)]\n",
    "agedness_df = titanic_data[titanic_data['Age'] >= 65]"
   ]
  },
  {
   "cell_type": "code",
   "execution_count": 28,
   "metadata": {},
   "outputs": [
    {
     "name": "stdout",
     "output_type": "stream",
     "text": [
      "Children_survived_sum:\n",
      "40\n",
      "Juvenile_survived_sum:\n",
      "21\n",
      "Adults_survived_sum:\n",
      "280\n",
      "Agedness_survived_sum:\n",
      "1\n"
     ]
    }
   ],
   "source": [
    "# 各年龄段生还人数\n",
    "children_survived_sum = children_df['Survived'].sum()\n",
    "juvenile_survived_sum = juvenile_df['Survived'].sum()\n",
    "adults_survived_sum = adults_df['Survived'].sum()\n",
    "agedness_survived_sum = agedness_df['Survived'].sum()\n",
    "print \"Children_survived_sum:\" \n",
    "print children_survived_sum\n",
    "print \"Juvenile_survived_sum:\"\n",
    "print juvenile_survived_sum\n",
    "print \"Adults_survived_sum:\"\n",
    "print adults_survived_sum\n",
    "print \"Agedness_survived_sum:\"\n",
    "print agedness_survived_sum"
   ]
  },
  {
   "cell_type": "code",
   "execution_count": 29,
   "metadata": {},
   "outputs": [
    {
     "name": "stdout",
     "output_type": "stream",
     "text": [
      "children_survived_rate:\n",
      "0.579710144928\n",
      "Juvenile_survived_rate:\n",
      "0.477272727273\n",
      "Adults_survived_rate：\n",
      "0.365058670143\n",
      "Agedness_survived_rate:\n",
      "0.0909090909091\n"
     ]
    }
   ],
   "source": [
    "# 各年龄段生还率\n",
    "children_survived_rate = children_df[\"Survived\"].mean()\n",
    "juvenile_survived_rate = juvenile_df['Survived'].mean()\n",
    "adults_survived_rate = adults_df['Survived'].mean()\n",
    "agedness_survived_rate = agedness_df['Survived'].mean()\n",
    "print \"children_survived_rate:\"\n",
    "print children_survived_rate\n",
    "print \"Juvenile_survived_rate:\"\n",
    "print juvenile_survived_rate\n",
    "print \"Adults_survived_rate：\"\n",
    "print adults_survived_rate\n",
    "print \"Agedness_survived_rate:\"\n",
    "print agedness_survived_rate"
   ]
  },
  {
   "cell_type": "code",
   "execution_count": 30,
   "metadata": {},
   "outputs": [
    {
     "data": {
      "text/plain": [
       "<matplotlib.text.Text at 0xf8fa128>"
      ]
     },
     "execution_count": 30,
     "metadata": {},
     "output_type": "execute_result"
    },
    {
     "data": {
      "image/png": "[encoded data removed]",
      "text/plain": [
       "<matplotlib.figure.Figure at 0xe31aba8>"
      ]
     },
     "metadata": {},
     "output_type": "display_data"
    }
   ],
   "source": [
    "types=('children','juvenile','adults','agedness')\n",
    "y_pos=np.arange(len(types))\n",
    "performance=[children_survived_rate,juvenile_survived_rate,adults_survived_rate,agedness_survived_rate]\n",
    "\n",
    "plt.bar(y_pos,performance,align='center',alpha=0.5)\n",
    "plt.xticks(y_pos,types)\n",
    "plt.title('Rate of survival')"
   ]
  },
  {
   "cell_type": "markdown",
   "metadata": {
    "collapsed": true
   },
   "source": [
    "数据分析总结\n",
    "1.泰坦尼克中，生还者342人，549人未生还。生还率38%。\n",
    "\n",
    "2.泰坦尼克事件中，女性的生还率比男性高。乘坐泰坦尼克的女性314人，男性577人。女性生还人数233人，男性109人。女性的生化率更高74%，男性为19%。女性的生还率比男性高,遵循“女士优先”的原则。\n",
    "\n",
    "3.客舱等级越高，生还率越高。乘坐泰坦尼克的一等舱216人，二等舱184人，三等舱491人。\n",
    "生还人数：一等舱136人，二等舱87人，三等舱119人。生还率：一等舱63%，二等舱47%，三等舱24%。一等舱位生还率最高，二等次之，三等生最少。\n",
    "\n",
    "4.结论：C案口生还率55%，Q岸口生还率39%，S岸口生还率34%。\n",
    "上岸港口，对生还率仅有轻微影响。\n",
    "\n",
    "5.儿童（<12岁）的生化率最高58%，少年（12-18岁）次之48%，老年最低9%。\n",
    "\n",
    "\n",
    "分析限制讨论：\n",
    "1.在泰坦尼克事件中，2224名船员及乘客中，逾1500人丧生。报告中使用样本乘客数据为891人。\n",
    "若是随机选取样本，样本足够大，符合中心极值定理，可以支撑得到准确的结论。\n",
    "\n",
    "2.数据集的年龄的缺失值用平均数来处理。\n",
    "\n",
    "3.除了报告中涉及的变量，是否为船员，乘客的家庭身份（是否为父亲母亲）等变量可能与存活率有关。"
   ]
  },
  {
   "cell_type": "code",
   "execution_count": null,
   "metadata": {
    "collapsed": true
   },
   "outputs": [],
   "source": []
  }
 ],
 "metadata": {
  "kernelspec": {
   "display_name": "Python 2",
   "language": "python",
   "name": "python2"
  },
  "language_info": {
   "codemirror_mode": {
    "name": "ipython",
    "version": 2
   },
   "file_extension": ".py",
   "mimetype": "text/x-python",
   "name": "python",
   "nbconvert_exporter": "python",
   "pygments_lexer": "ipython2",
   "version": "2.7.13"
  }
 },
 "nbformat": 4,
 "nbformat_minor": 2
}
